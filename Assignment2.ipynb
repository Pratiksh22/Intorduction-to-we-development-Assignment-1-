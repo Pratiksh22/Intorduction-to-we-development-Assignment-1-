{
  "nbformat": 4,
  "nbformat_minor": 0,
  "metadata": {
    "colab": {
      "provenance": [],
      "authorship_tag": "ABX9TyPSnwL4yJmUOgG0jY6DyIAN",
      "include_colab_link": true
    },
    "kernelspec": {
      "name": "python3",
      "display_name": "Python 3"
    },
    "language_info": {
      "name": "python"
    }
  },
  "cells": [
    {
      "cell_type": "markdown",
      "metadata": {
        "id": "view-in-github",
        "colab_type": "text"
      },
      "source": [
        "<a href=\"https://colab.research.google.com/github/Pratiksh22/Intorduction-to-we-development-Assignment-1-/blob/main/Assignment2.ipynb\" target=\"_parent\"><img src=\"https://colab.research.google.com/assets/colab-badge.svg\" alt=\"Open In Colab\"/></a>"
      ]
    },
    {
      "cell_type": "code",
      "execution_count": null,
      "metadata": {
        "id": "D17ta5vhui_2"
      },
      "outputs": [],
      "source": []
    },
    {
      "cell_type": "markdown",
      "source": [
        "Q.1 Write a simple program in HTML that displays the heading \"HTML defines the content and structure of your website” on the web browser.\n"
      ],
      "metadata": {
        "id": "NOC8EiI2ukD8"
      }
    },
    {
      "cell_type": "code",
      "source": [
        "<!DOCTYPE html>\n",
        "<html>\n",
        "<head>\n",
        "   <title> HTML Program_1 </title>\n",
        "</head>\n",
        "<body>\n",
        "     <h1> HTML defines the content and structure of your website </h1>\n",
        "</body>\n",
        "</html>"
      ],
      "metadata": {
        "id": "b9zbBwzAulFd"
      },
      "execution_count": null,
      "outputs": []
    },
    {
      "cell_type": "markdown",
      "source": [
        "Q.2 Explain the purpose of comments in HTML and provide an example of how to use comments in an HTML document.\n",
        "\n",
        "-->Comments in HTML **bold text\n",
        "\n",
        "*Used for non-executing code notes.\n",
        "\n",
        "*Aid in code documentation and debugging.\n",
        "\n",
        "*Single line: (<!-- Single line comment--)\n",
        "\n",
        "Multiline comment : <!--Multiline comment--)"
      ],
      "metadata": {
        "id": "M77IHm2NuwKC"
      }
    },
    {
      "cell_type": "markdown",
      "source": [
        "Q.3 Write an HTML program that includes a heading, a paragraph of text, a horizontal line, and a line break. Arrange these elements to create a simple web page layout."
      ],
      "metadata": {
        "id": "6EPhXC17u8sc"
      }
    },
    {
      "cell_type": "code",
      "source": [
        "<html>\n",
        "<head>\n",
        "<title> Q.3 HTML program with tags </title>\n",
        "</head>\n",
        "<body>\n",
        "      <h1 align=\"center\"> WELCOME TO THE TRAVELS AND TOUR WEBSITE </h1>\n",
        "      <hr>\n",
        "      <p>Travel and tourism is the largest service industry in India. It provides heritage, cultural, medical, business and sports tourism.</p><br>\n",
        "      <p> The main objective of this sector is to develop and promote tourism, maintain competitiveness of India as tourist destination and improve and expand existing tourism products to ensure employment generation and economic growth.</p><br><p> In this section, we provide information about various tourist destinations, modes of travel, accommodation and approved travel agents.\n",
        "</p>\n",
        "\n",
        "</body>\n",
        "</html>"
      ],
      "metadata": {
        "id": "f_46TqUgvBMz"
      },
      "execution_count": null,
      "outputs": []
    },
    {
      "cell_type": "markdown",
      "source": [
        "Q.4 Write a short note on Tag and element with an example.\n",
        "\n",
        "--> Tags are used to define the start and stop of an element, elements refer to both the opening and closing tag and everything in-between.\n",
        "\n",
        "The elements that don't require a closing tag, like the  element, are called void elements.\n",
        "\n",
        "Tag example: Paragraph <p>: Block of text with automatic spacing."
      ],
      "metadata": {
        "id": "5wzUG8VNvIli"
      }
    },
    {
      "cell_type": "markdown",
      "source": [
        "Q.5 What is the DOCTYPE Declaration in HTML?\n",
        "\n",
        "--> ** **declares HTML5 document type."
      ],
      "metadata": {
        "id": "Hba9bYfBvVXZ"
      }
    }
  ]
}