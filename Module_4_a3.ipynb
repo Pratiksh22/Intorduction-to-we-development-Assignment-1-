{
  "nbformat": 4,
  "nbformat_minor": 0,
  "metadata": {
    "colab": {
      "provenance": [],
      "authorship_tag": "ABX9TyO0ZerfjtueGUbJeTpOcIBs",
      "include_colab_link": true
    },
    "kernelspec": {
      "name": "python3",
      "display_name": "Python 3"
    },
    "language_info": {
      "name": "python"
    }
  },
  "cells": [
    {
      "cell_type": "markdown",
      "metadata": {
        "id": "view-in-github",
        "colab_type": "text"
      },
      "source": [
        "<a href=\"https://colab.research.google.com/github/Pratiksh22/Intorduction-to-we-development-Assignment-1-/blob/main/Module_4_a3.ipynb\" target=\"_parent\"><img src=\"https://colab.research.google.com/assets/colab-badge.svg\" alt=\"Open In Colab\"/></a>"
      ]
    },
    {
      "cell_type": "code",
      "execution_count": null,
      "metadata": {
        "id": "a5qHQseb2Y-T"
      },
      "outputs": [],
      "source": []
    },
    {
      "cell_type": "markdown",
      "source": [
        "Q.1 Build a simple webpage that displays text as shown in the below image."
      ],
      "metadata": {
        "id": "tqvbqJ-E2hy1"
      }
    },
    {
      "cell_type": "code",
      "source": [
        "<html>\n",
        "<head>\n",
        "</head>\n",
        "<title>A simple webpage question:1</title>\n",
        "<body>\n",
        "<p><h1><b>This text will be bolded</b></p>\n",
        "<p><i>This text will be italic</i></p>\n",
        "<p><u>This text will be underlined.</u></p>\n",
        "<p><mark>This text will be highlighted.</mark></p>\n",
        "<p>This is normal text<sup>This text will be superscripted.</sup>This is normal again</p>\n",
        "<p>This is normal text<sub>This text will be superscripted.</sub></p>\n",
        "<p><big>Normal text</big><small>Small text</small></p>\n",
        "<p><s>This text will be deleted</s>\n",
        "</body>\n",
        "</html>"
      ],
      "metadata": {
        "id": "YOsWP1p52wsz"
      },
      "execution_count": null,
      "outputs": []
    },
    {
      "cell_type": "markdown",
      "source": [
        "Q.2 Build a simple webpage that helps users navigate different web development-related websites. Note: On\n",
        "clicking the hyperlink the web pages should open in a new tab. Below is a reference image."
      ],
      "metadata": {
        "id": "rJ2fYZEw20xb"
      }
    },
    {
      "cell_type": "code",
      "source": [
        "<html>\n",
        "<head>\n",
        "</head>\n",
        "<title>PWAssign_2</title>\n",
        "<body>\n",
        "<p><h1>Navigate Me:</h1></p>\n",
        "<p>Take me to <a href=\"https://www.googleadservices.com/pagead/aclk?sa=L&ai=DChcSEwjoje3Jo-GMAxXTo1oFHVHlFTwYABABGgJ2dQ&ae=2&aspm=1&co=1&ase=5&gclid=CjwKCAjw8IfABhBXEiwAxRHlsA-Yfm23KBBzb7nJgCx4eODQfAISViQlRtavhD5sVUdhxcCuX4K_bxoCjhIQAvD_BwE&ohost=www.google.com&cid=CAESVOD2djsOzETwBTUODzM6TrPQNBS8nb7rxwk4LNpb0igtP6iJRBk3jA8891PvQRg3Rx30K3Atw8looA6skqs7wbXNH2JeNl88v3nXUWiAg1nvL6_1Xw&sig=AOD64_0EDJflGthtHH-00_JXsqSJhzt6-g&q&adurl&ved=2ahUKEwjlq-fJo-GMAxVrTTABHUEUBt0Q0Qx6BAgKEAE\">Pw skills</a> to buy a course</p>\n",
        "<p>Take me to <a href=\"https://developer.mozilla.org/en-US/\">MDN Doc</a> to know more about Web Development</p>\n",
        "<p>Take me to <a href=\"https://pwskills.com/courses/?gclid=CjwKCAjw8IfABhBXEiwAxRHlsA-Yfm23KBBzb7nJgCx4eODQfAISViQlRtavhD5sVUdhxcCuX4K_bxoCjhIQAvD_BwE&source=homepage_explore\">Pw skills Course</a> to explore more courses</p>\n",
        "</body>\n",
        "</html>"
      ],
      "metadata": {
        "id": "MIsRlENW26Vi"
      },
      "execution_count": null,
      "outputs": []
    },
    {
      "cell_type": "code",
      "source": [],
      "metadata": {
        "id": "tDswPWoQ2_u2"
      },
      "execution_count": null,
      "outputs": []
    },
    {
      "cell_type": "markdown",
      "source": [
        "Q.3 Build a simple blog web page with 3 pages home, web development, and web design. Each page must\n",
        "contain hyperlinks to other pages in the top, a heading of the page topic and a paragraph of information.\n",
        "For the home page you can add some information about yourself%"
      ],
      "metadata": {
        "id": "ASTmv0b23A9l"
      }
    },
    {
      "cell_type": "code",
      "source": [
        "<html>\n",
        "<head>\n",
        "</head>\n",
        "<title>Pratiksha Blog</title>\n",
        "<body align=\"Center\">\n",
        "<p><font color=\"green\" size=\"59\" >Welcome To The Blog of Webpage</font></p>\n",
        "<hr>\n",
        "<table width=\"100%\">\n",
        "      <tr>\n",
        "         <td align=\"center-left\" rowspan=\"5\" ><a href=\"pw_ass3.html\"><h2>HOME</h2></a></td>\n",
        "\n",
        "     </tr>\n",
        "\n",
        "     <tr>\n",
        "         <td  rowspan=\"5\" align=\"center\"><a href=\"webdevelopment.html\"><h2>WEB DEVELOPMENT</h2></a></td>\n",
        "     </tr>\n",
        "\n",
        "     <tr>\n",
        "         <td  rowspan=\"5\" align=\"center\" ><a href=\"webdesign.html\"><h2>WEB DESIGN</h2></a></td>\n",
        "     </tr>\n",
        "     <br>\n",
        "\n",
        "\t <p></p>\n",
        "</table>\n",
        "<img src=\"blog.png\" width=\"100%\" height=\"100%\">\n",
        "</body>\n",
        "</html>\n",
        "\n",
        "<html>\n",
        "<head>\n",
        "</head>\n",
        "<title>Web Design</title>\n",
        "<body font-size=\"45\">\n",
        "<p><h1 align=\"center\">WEB DESIGN</h1></p>\n",
        "<hr>\n",
        "<p><h2>Web design is the process of planning and arranging content on a website to create a visually appealing and user-friendly experience. It involves considering aesthetic elements like colors, fonts, and graphics, as well as functional elements like user interface (UI) and user experience (UX). Web design also encompasses ensuring accessibility for all users and integrating applications and interactive elements.</h2> </p>\n",
        "<ul font-size=\"55\">\n",
        "<li><h3>Aesthetics:</h3> Choosing colors, fonts, and images that align with the brand and create a visually appealing experience. </li>\n",
        "<li><h3>Functionality:</h3> Designing a user-friendly interface that is easy to navigate and intuitive to use. </li>\n",
        "<li><h3>User Experience (UX):</h3> Focusing on how users interact with the website and ensuring a smooth and enjoyable experience.\n",
        "Accessibility: Designing websites that can be used by people with disabilities. </li>\n",
        "<li><h3>Content Organization:</h3> Arranging content in a logical and clear way so that users can easily find what they are looking for.\n",
        "<h3>Responsiveness:</h3> Creating websites that adapt to different screen sizes and devices. </li>\n",
        "</ul>\n",
        "</body>\n",
        "</html>\n",
        "\n",
        "<html>\n",
        "<head>\n",
        "</head>\n",
        "<title>Web Development</title>\n",
        "<body font-size=\"45\">\n",
        "<p><h1><font color=\"red\" >Let's Explore about Web Development</font></h1></p>\n",
        "<hr>\n",
        "<p>Web development is the process of creating and maintaining websites and web applications, encompassing both front-end (what users see and interact with) and back-end (the server-side logic). It involves coding, programming, design, and optimization to ensure websites function effectively and perform well. </p><br>\n",
        "<p>Key Aspects of Web Development:\n",
        "<ul><li>Front-end Development:</li></ul>\n",
        "Focuses on the user interface (UI), including the visual elements, layout, and interactive features of a website or web application.</p><br>\n",
        "<p><ul><li>Back-end Development:</li></ul>\n",
        "Deals with the server-side logic, databases, and other systems that power a website or web application.\n",
        "<ul><li>Full-stack Development:</li></ul>\n",
        "A developer who can work on both front-end and back-end aspects of a web application. </p><br>\n",
        "</body>\n",
        "</html>\n"
      ],
      "metadata": {
        "id": "rRAZtq2K3HH4"
      },
      "execution_count": null,
      "outputs": []
    },
    {
      "cell_type": "markdown",
      "source": [
        "![blog.png](data:image/png;base64,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)"
      ],
      "metadata": {
        "id": "b0EsIzV03ufu"
      }
    },
    {
      "cell_type": "markdown",
      "source": [
        "Q.4 Create an ordered list of HTML tags. Each list item must include the tag name and some information about\n",
        "the tag."
      ],
      "metadata": {
        "id": "29CAq_TQ3yvW"
      }
    },
    {
      "cell_type": "code",
      "source": [
        "<html>\n",
        "<head>\n",
        "</head>\n",
        "<title>PwA_4</title>\n",
        "<body>\n",
        "<p><h1>Ordered list:</h1></p>\n",
        "<ol><font size=\"22\">\n",
        "<li>(h1),this tag defines the largest heading</li>\n",
        "<li>(p),this tag defines a paragraph of text</li>\n",
        "<li>(b), this tag defines a bold text</li>\n",
        "<li>(br), this tag insert a ine break.</li>\n",
        "<li>(abbr), this tag defines an abbrevation</li>\n",
        "<li>(img), this tag is used to display an image.</li>\n",
        "<li>(mark)<mark>, this tag defines a highlighted text</mark></li>\n",
        "</font>\n",
        "</body>\n",
        "</html>"
      ],
      "metadata": {
        "id": "-hRrLBKr36F1"
      },
      "execution_count": null,
      "outputs": []
    },
    {
      "cell_type": "markdown",
      "source": [
        "Q.5 Create a description list of full stack web development tech stack, using the <dl> tag. Each term should be\n",
        "a tech stack name and each description should be a brief explanation of what the tech stack is used for."
      ],
      "metadata": {
        "id": "gsTHrSqJ3-Cq"
      }
    },
    {
      "cell_type": "code",
      "source": [
        "<html>\n",
        "<head>\n",
        "</head>\n",
        "<body>\n",
        "<h1>The brief explanantion of tech stack using dl tag:</h1>\n",
        "<dl>\n",
        "<dt>Definition:</dt>\n",
        "<dd>Full stack development involves front-end (user interface), back-end(server-side logic), and database management.</dd>\n",
        "<dt>Importance:</dt>\n",
        "<dd> Full stack developers are in high demand due to their versatility abd efficiency.</dd>\n",
        "<dt>Key Technologies:</dt>\n",
        "<dd><ul>\n",
        "<li>Front-end: HTML, CSS, Javascript, React,Angular, Vue.js</li>\n",
        "<li>Back-end: Node.js, Python, Ruby, Java</li>\n",
        "<li>Databases: MYSQL, MONODB, POSTGRESQL</li>\n",
        "<li>DevOps:mGit, Docker, Jenkins</li></dd>\n",
        "<dt><b>Key Challenges:</b></dt>\n",
        "<dd><ul>\n",
        "<li>Keeping  up with rapidly evolving technologies.</li>\n",
        "<li>Balancing broad knowledge with deep expertise.</li>\n",
        "<li>Managing complex, large-scale projects.</li>\n",
        "</dd>\n",
        "</dl>\n",
        "</body>\n",
        "</html>"
      ],
      "metadata": {
        "id": "QbEEPPSl4EoI"
      },
      "execution_count": null,
      "outputs": []
    },
    {
      "cell_type": "markdown",
      "source": [
        "Q.6 Create an ordered list of the full stack web development tech stack HTML, CSS, and JS. For each tech\n",
        "stack, create a table that lists the tech stack name, its primary use cases, and some key features or\n",
        "benefits. Below is a reference image.\n"
      ],
      "metadata": {
        "id": "Hzhs6m4v4JlH"
      }
    },
    {
      "cell_type": "code",
      "source": [
        "<html>\n",
        "<head>\n",
        "<title>About Full stack web development</title>\n",
        "</head>\n",
        "<body>\n",
        "\n",
        "\t\t<ol>\n",
        "\t\t<li><h1><b> HTML </b></h1></li>\n",
        "\t\t<table border=\"2\" align=\"left-center\" cellspacing=\"6\" cellpadding=\"10\" body=\"3\" >\n",
        "\t\t<tr>\n",
        "\t\t<td><h3>Primary use/ cases</h3></td>\n",
        "\t\t<td><h3>Key features/ benefits</h3></td>\n",
        "\t\t</tr>\n",
        "\t\t<tr>\n",
        "\t\t<td>Building the structure of web pages</td>\n",
        "\t\t    <td>\n",
        "\t\t\t<ul>\n",
        "\t\t\t<li>Simple and easy to learn</li>\n",
        "\t\t\t<li>Compatible with all web browsers </li>\n",
        "\t\t\t<li>Allows for semantic markup</li>\n",
        "\t\t\t</ul>\n",
        "\t\t\t</td>\n",
        "\t\t</tr>\n",
        "\t\t</table>\n",
        "\n",
        "\t\t<li><h1> CSS </h1></li>\n",
        "\t\t<table border=\"2\" align=\"left-center\" cellspacing=\"6\" cellpadding=\"10\" body=\"3\" >\n",
        "\t\t<tr>\n",
        "\t\t<td><h3>Primary use/ cases</h3></td>\n",
        "\t\t<td><h3>Key features/ benefits</h3></td>\n",
        "\t\t</tr>\n",
        "\t\t<tr>\n",
        "\t\t<td>Styling the layout of web pages</td>\n",
        "\t\t    <td><ul>\n",
        "\t\t\t<li>Allows for separartion of content and presentation</li>\n",
        "\t\t\t<li>Enables responsive design </li>\n",
        "\t\t\t<li>Offers a range of styling option</li>\n",
        "\t\t\t</ul></td>\n",
        "\t\t</tr>\n",
        "\t\t</table>\n",
        "\t\t<li><h1> JavaScript </h1></li>\n",
        "\t\t<table border=\"2\" align=\"left-center\" cellspacing=\"6\" cellpadding=\"10\" body=\"3\" >\n",
        "\t\t<tr>\n",
        "\t\t<td><h3>Primary use/ cases</h3></td>\n",
        "\t\t<td><h3>Key features/ benefits</h3></td>\n",
        "\t\t</tr>\n",
        "\t\t<tr>\n",
        "\t\t<td>Make web pages dynamic</td>\n",
        "\t\t     <td><ul>\n",
        "\t\t\t<li>Client-side programming language</li>\n",
        "\t\t\t<li>Improving the user interface and interactivity for websites </li>\n",
        "\t\t\t<li>Dynamic typing</li>\n",
        "\t\t\t</ul></td>\n",
        "\t\t</tr>\n",
        "\t\t</table>\n",
        "\t\t</ol>\n",
        "\n",
        "</body>\n",
        "</html>"
      ],
      "metadata": {
        "id": "MPb0Eisb4PCO"
      },
      "execution_count": null,
      "outputs": []
    },
    {
      "cell_type": "markdown",
      "source": [
        "Q.7 Build a complex nested list structure representing a multi-level table of contents. Use unordered lists\n",
        "(<ul>) and list items (<li>) with inline-block styling to create a structured layout. Apply formatting tags to\n",
        "enhance the presentation of list items."
      ],
      "metadata": {
        "id": "owl7QJkf4Sgq"
      }
    },
    {
      "cell_type": "code",
      "source": [
        "<html>\n",
        "<head>\n",
        "</head>\n",
        "<title>Multi-level table of contents</title>\n",
        "<body>\n",
        "<p><h1>Table of contents</h1></p>\n",
        " <ul type=\"bullet\">\n",
        " <li><a href=\"https://math.libretexts.org/Courses/Monroe_Community_College/MTH_220_Discrete_Math/00:_Front_Matter/04:_Licensing\">lICENSING</li>\n",
        " <li><a href=\"https://math.libretexts.org/Courses/Monroe_Community_College/MTH_220_Discrete_Math/1:_Introduction_to_Discrete_Mathematics\">1:INTRODUCTION TO DISCRETE MATHEMATICS</li>\n",
        "  <ul type=\"square\">\n",
        " <li><a href=\"https://math.libretexts.org/Courses/Monroe_Community_College/MTH_220_Discrete_Math/1:_Introduction_to_Discrete_Mathematics/1.0_Preface\">1.0 PREFACE</li>\n",
        " <li><a href=\"https://math.libretexts.org/Courses/Monroe_Community_College/MTH_220_Discrete_Math/1:_Introduction_to_Discrete_Mathematics/1.0_Preface\">1.2 OVERVIEW OF MATHEMATICS</li>\n",
        " </ul>\n",
        "  <ul type=\"bullet\">\n",
        " <li><a href=\"https://math.libretexts.org/Courses/Monroe_Community_College/MTH_220_Discrete_Math/2:_Logic\"> 2 Logic</li>\n",
        "  </ul>\n",
        "  <ul type=\"square\">\n",
        " <li><a href=\"https://math.libretexts.org/Courses/Monroe_Community_College/MTH_220_Discrete_Math/2:_Logic/2.1:_Propositions\">Proposition</li>\n",
        " <li><a href=\"https://math.libretexts.org/Courses/Monroe_Community_College/MTH_220_Discrete_Math/2:_Logic/2.2:_Conjunctions_and_Disjunctions\">Conjuction</li>\n",
        "  </ul>\n",
        "  <ul type=\"bullet\">\n",
        " <li><a href=\"https://math.libretexts.org/Courses/Monroe_Community_College/MTH_220_Discrete_Math/2:_Logic\"> 2 Logic</li>\n",
        " </ul>\n",
        " <ul type=\"square\">\n",
        " <li><a href=\"https://math.libretexts.org/Courses/Monroe_Community_College/MTH_220_Discrete_Math/2:_Logic/2.1:_Propositions\">Proposition</li>\n",
        " <li><a href=\"https://math.libretexts.org/Courses/Monroe_Community_College/MTH_220_Discrete_Math/2:_Logic/2.2:_Conjunctions_and_Disjunctions\">Conjuction</li>\n",
        " </ul>\n",
        "  <ul type=\"bullet\">\n",
        " <li><a href=\"https://math.libretexts.org/Courses/Monroe_Community_College/MTH_220_Discrete_Math/2:_Logic\"> 2 Logic</li>\n",
        " </ul>\n",
        " <ul type=\"square\">\n",
        " <li><a href=\"https://math.libretexts.org/Courses/Monroe_Community_College/MTH_220_Discrete_Math/2:_Logic/2.1:_Propositions\">Proposition</li>\n",
        " <li><a href=\"https://math.libretexts.org/Courses/Monroe_Community_College/MTH_220_Discrete_Math/2:_Logic/2.2:_Conjunctions_and_Disjunctions\">Conjuction</li>\n",
        " </ul>\n",
        "  <ul type=\"bullet\">\n",
        " <li><a href=\"https://math.libretexts.org/Courses/Monroe_Community_College/MTH_220_Discrete_Math/2:_Logic\"> 2 Logic</li>\n",
        " </ul>\n",
        " <ul type=\"square\">\n",
        " <li><a href=\"https://math.libretexts.org/Courses/Monroe_Community_College/MTH_220_Discrete_Math/2:_Logic/2.1:_Propositions\">Proposition</li>\n",
        " <li><a href=\"https://math.libretexts.org/Courses/Monroe_Community_College/MTH_220_Discrete_Math/2:_Logic/2.2:_Conjunctions_and_Disjunctions\">Conjuction</li>\n",
        " </ul>\n",
        " <li>Conclusion</li>\n",
        " </ul>\n",
        "</body>\n",
        "</html>"
      ],
      "metadata": {
        "id": "aw_3Fvj14WOX"
      },
      "execution_count": null,
      "outputs": []
    },
    {
      "cell_type": "markdown",
      "source": [
        "Q.8 Create a table to display a conference schedule. Each row corresponds to a time slot, and each column\n",
        "corresponds to a room. Some time slots might have multiple sessions running simultaneously in different\n",
        "rooms. Utilize rowspan and colspan attributes as necessary to accommodate this complex schedule.\n",
        "(use table attribute “cellpadding”  to give extra padding in each table cell )."
      ],
      "metadata": {
        "id": "HbSUzXG24Z-0"
      }
    },
    {
      "cell_type": "code",
      "source": [
        "<html>\n",
        "    <head></head>\n",
        "<body>\n",
        "<h1>Conference Schedule</h1>\n",
        "<table border=\"2\" align=\"center\" cellspacing=\"6\" cellpadding=\"10\" body=\"3\" foot=\"3\">\n",
        "     <tr>\n",
        "         <th><b>Time</b></th>\n",
        "         <th><b>Room 1</b></th>\n",
        "         <th><b>Room 2</b></th>\n",
        "         <th><b>Room 3</b></th>\n",
        "         <th><b>Room 4</b></th>\n",
        "\n",
        "     </tr>\n",
        "     <tr>\n",
        "         <td rowspan =3 align = \"\"center>9:00 AM - 10:00 AM</td>\n",
        "\n",
        "         <td rowspan=2 align=\"center\">Keynote</td>\n",
        "\n",
        "         <td align=\"center\"> Session A</td>\n",
        "\n",
        "         <td align=\"center\"> session B</td>\n",
        "         <td rowspan=3 align =\"center\">Session C</td>\n",
        "     </tr>\n",
        "\t <tr>\n",
        "         <td>Session D</td>\n",
        "         <td>Session E</td>\n",
        "\n",
        "     </tr\n",
        "     <tr>\n",
        "         <td> 10:30 AM - 11:30 AM</td>\n",
        "         <td colspan= 2> Session F</td>\n",
        "\n",
        "     </tr>\n",
        "      <tr>\n",
        "         <td>12:00 PM - 1:00 PM</td>\n",
        "         <td colspan=4>Lunch Break</td>\n",
        "     </tr>\n",
        "     <tr>\n",
        "         <td rowspan=2>1:00 PM - 2:00 PM</td>\n",
        "\t\t <td>Session G</td>\n",
        "\t\t <td rowspan=2>Session H</td>\n",
        "\t\t <td>Session I</td>\n",
        "\t\t <td>Session J</td>\n",
        "\n",
        "     </tr>\n",
        "     <tr>\n",
        "         <td>Session K</td>\n",
        "         <td>Session L</td>\n",
        "         <td>Session M</td>\n",
        "     </tr>\n",
        "</table>\n",
        "</body>\n",
        "</html>"
      ],
      "metadata": {
        "id": "Z0IeqrLU4fgP"
      },
      "execution_count": null,
      "outputs": []
    }
  ]
}