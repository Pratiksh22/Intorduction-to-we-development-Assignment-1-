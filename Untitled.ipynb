{
  "nbformat": 4,
  "nbformat_minor": 0,
  "metadata": {
    "colab": {
      "provenance": []
    },
    "kernelspec": {
      "name": "python3",
      "display_name": "Python 3"
    },
    "language_info": {
      "name": "python"
    }
  },
  "cells": [
    {
      "cell_type": "code",
      "execution_count": null,
      "metadata": {
        "id": "0irOMW3Hab6S"
      },
      "outputs": [],
      "source": []
    },
    {
      "cell_type": "markdown",
      "source": [],
      "metadata": {
        "id": "GI0WGChZbRUB"
      }
    },
    {
      "cell_type": "code",
      "source": [
        "Assignment 1\n"
      ],
      "metadata": {
        "id": "z0gRVgTPMHZ4"
      },
      "execution_count": null,
      "outputs": []
    },
    {
      "cell_type": "markdown",
      "source": [
        "Assignment 1\n",
        "**Q.1 Explain the main components of client-server architecture and their functions.**\n",
        "\n",
        "--> In client-server architecture, the two main components are the client, which requests services and interacts with the user, and the server, which provides those services and manages resources, with the network infrastructure connecting them.\n",
        "\n",
        "**Q.2 Discuss the various career paths available after completing a web development course.**\n",
        "-->**Career Path after Web Development**\n",
        "\n",
        "Front-End Developer:Focuses on user interface and visual aspects.\n",
        "\n",
        "Back-End Developer: Manages server-side logic, databases, and application integration.\n",
        "\n",
        "Full-Stack Developer: Skilled in both front-end and back-end development.\n",
        "\n",
        "Web Designer: Specializes in design and layout of websites.\n",
        "\n",
        "Web Administrator: Manages web servers and ensures website performance and security.\n",
        "\n",
        "**Q.3 Describe the role of a web browser's developer tools in web development.**\n",
        "\n",
        "--> Web browser developer tools, often called \"DevTools,\" are indispensable for web developers, allowing them to inspect, debug, and optimize websites, ultimately leading to better user experiences and faster development cycles.\n",
        "\n",
        "**Inspecting HTML and CSS:** Developers can view and edit the structure(HTML) and style(CSS) of a webpage in real time, helping them understand layout issue and make quick changes.\n",
        "\n",
        "**Debugging JavaScript**: DevTools provide tools to set breakpoints, step through code, and inspect variables, making it easier to identify and fix JavaScript errors.\n",
        "\n",
        "**Performance Monitoring:**DevTools offer tools to measure page load times, identify resource bottlenecks, and optimize code for better performance.\n",
        "\n",
        "**Responsive Design Testing:**:Developers can test websites in different screen sizes and orientations, ensuring a good user experience on all devices.\n",
        "\n",
        "**Network Activity Analysis:**DevTools can simulate different network speeds and conditions, allowing developers to test their websites under various scenario.\n",
        "\n",
        "\n",
        "**Q.4 What are the advantages of using a Version Control System like Git in a development project?**\n",
        "-->\n",
        "\n",
        "*   Tracks changes to files over time.\n",
        "\n",
        "\n",
        "*   Enables collaboration among multiple developers.\n",
        "\n",
        "*   Provides features like branching, merging, version history.\n",
        "*   Ensures efficient management of changes.\n",
        "\n",
        "\n",
        "**Q.5 Compare and contrast a text editor and an IDE, highlighting their key features and uses. **\n",
        "\n",
        "--> Text Editor and IDE\n",
        "\n",
        "Text Editor: Simple tool for writing code (e.g., Notepad++, Sublime Text).\n",
        "\n",
        "IDE: Robust environment with features like debugging, version control, project management (e.g., Visual Studio Code, IntelliJ IDEA)."
      ],
      "metadata": {
        "id": "dVcUnKA-bSnC"
      }
    }
  ]
}